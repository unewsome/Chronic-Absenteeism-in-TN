{
 "cells": [
  {
   "cell_type": "code",
   "execution_count": 25,
   "metadata": {},
   "outputs": [],
   "source": [
    "import tabula\n",
    "import pandas as pd"
   ]
  },
  {
   "cell_type": "code",
   "execution_count": 27,
   "metadata": {},
   "outputs": [],
   "source": [
    "df41 = tabula.read_pdf(\"C:/Users/unews/nss_data_science/Capstone/ASR1617.pdf\",pages=41)"
   ]
  },
  {
   "cell_type": "code",
   "execution_count": 16,
   "metadata": {
    "scrolled": true
   },
   "outputs": [
    {
     "data": {
      "text/html": [
       "<div>\n",
       "<style scoped>\n",
       "    .dataframe tbody tr th:only-of-type {\n",
       "        vertical-align: middle;\n",
       "    }\n",
       "\n",
       "    .dataframe tbody tr th {\n",
       "        vertical-align: top;\n",
       "    }\n",
       "\n",
       "    .dataframe thead th {\n",
       "        text-align: right;\n",
       "    }\n",
       "</style>\n",
       "<table border=\"1\" class=\"dataframe\">\n",
       "  <thead>\n",
       "    <tr style=\"text-align: right;\">\n",
       "      <th></th>\n",
       "      <th>Unnamed: 0</th>\n",
       "      <th>LICENSED</th>\n",
       "      <th>INSTRUCTIONAL</th>\n",
       "      <th>CLASSROOM</th>\n",
       "      <th>Unnamed: 4</th>\n",
       "      <th>Unnamed: 5</th>\n",
       "    </tr>\n",
       "  </thead>\n",
       "  <tbody>\n",
       "    <tr>\n",
       "      <th>0</th>\n",
       "      <td>NaN</td>\n",
       "      <td>EDUCATORS</td>\n",
       "      <td>PERSONNEL</td>\n",
       "      <td>TEACHER</td>\n",
       "      <td>PRINCIPAL</td>\n",
       "      <td>SUPERINTENDENT</td>\n",
       "    </tr>\n",
       "    <tr>\n",
       "      <th>1</th>\n",
       "      <td>ANDERSON CO</td>\n",
       "      <td>49,268</td>\n",
       "      <td>48,764</td>\n",
       "      <td>46,386</td>\n",
       "      <td>81,234</td>\n",
       "      <td>135,000</td>\n",
       "    </tr>\n",
       "    <tr>\n",
       "      <th>2</th>\n",
       "      <td>CLINTON</td>\n",
       "      <td>49,636</td>\n",
       "      <td>49,025</td>\n",
       "      <td>45,343</td>\n",
       "      <td>73,800</td>\n",
       "      <td>100,000</td>\n",
       "    </tr>\n",
       "    <tr>\n",
       "      <th>3</th>\n",
       "      <td>OAK RIDGE</td>\n",
       "      <td>66,065</td>\n",
       "      <td>65,927</td>\n",
       "      <td>63,519</td>\n",
       "      <td>98,186</td>\n",
       "      <td>188,840</td>\n",
       "    </tr>\n",
       "    <tr>\n",
       "      <th>4</th>\n",
       "      <td>BEDFORD CO</td>\n",
       "      <td>47,974</td>\n",
       "      <td>47,685</td>\n",
       "      <td>45,733</td>\n",
       "      <td>78,245</td>\n",
       "      <td>107,826</td>\n",
       "    </tr>\n",
       "  </tbody>\n",
       "</table>\n",
       "</div>"
      ],
      "text/plain": [
       "    Unnamed: 0   LICENSED INSTRUCTIONAL CLASSROOM Unnamed: 4      Unnamed: 5\n",
       "0          NaN  EDUCATORS     PERSONNEL   TEACHER  PRINCIPAL  SUPERINTENDENT\n",
       "1  ANDERSON CO     49,268        48,764    46,386     81,234         135,000\n",
       "2      CLINTON     49,636        49,025    45,343     73,800         100,000\n",
       "3    OAK RIDGE     66,065        65,927    63,519     98,186         188,840\n",
       "4   BEDFORD CO     47,974        47,685    45,733     78,245         107,826"
      ]
     },
     "execution_count": 16,
     "metadata": {},
     "output_type": "execute_result"
    }
   ],
   "source": [
    "df41.head()"
   ]
  },
  {
   "cell_type": "code",
   "execution_count": 32,
   "metadata": {},
   "outputs": [
    {
     "data": {
      "text/plain": [
       "(62, 6)"
      ]
     },
     "execution_count": 32,
     "metadata": {},
     "output_type": "execute_result"
    }
   ],
   "source": [
    "df41.shape"
   ]
  },
  {
   "cell_type": "code",
   "execution_count": 20,
   "metadata": {},
   "outputs": [],
   "source": [
    "df42 = tabula.read_pdf(\"C:/Users/unews/nss_data_science/Capstone/ASR1617.pdf\",pages=42)"
   ]
  },
  {
   "cell_type": "code",
   "execution_count": 21,
   "metadata": {
    "scrolled": true
   },
   "outputs": [
    {
     "data": {
      "text/html": [
       "<div>\n",
       "<style scoped>\n",
       "    .dataframe tbody tr th:only-of-type {\n",
       "        vertical-align: middle;\n",
       "    }\n",
       "\n",
       "    .dataframe tbody tr th {\n",
       "        vertical-align: top;\n",
       "    }\n",
       "\n",
       "    .dataframe thead th {\n",
       "        text-align: right;\n",
       "    }\n",
       "</style>\n",
       "<table border=\"1\" class=\"dataframe\">\n",
       "  <thead>\n",
       "    <tr style=\"text-align: right;\">\n",
       "      <th></th>\n",
       "      <th>Unnamed: 0</th>\n",
       "      <th>LICENSED</th>\n",
       "      <th>INSTRUCTIONAL</th>\n",
       "      <th>CLASSROOM</th>\n",
       "      <th>Unnamed: 4</th>\n",
       "      <th>Unnamed: 5</th>\n",
       "    </tr>\n",
       "  </thead>\n",
       "  <tbody>\n",
       "    <tr>\n",
       "      <th>0</th>\n",
       "      <td>NaN</td>\n",
       "      <td>EDUCATORS</td>\n",
       "      <td>PERSONNEL</td>\n",
       "      <td>TEACHER</td>\n",
       "      <td>PRINCIPAL</td>\n",
       "      <td>SUPERINTENDENT</td>\n",
       "    </tr>\n",
       "    <tr>\n",
       "      <th>1</th>\n",
       "      <td>HENDERSON CO</td>\n",
       "      <td>50,540</td>\n",
       "      <td>50,304</td>\n",
       "      <td>48,063</td>\n",
       "      <td>68,981</td>\n",
       "      <td>105,000</td>\n",
       "    </tr>\n",
       "    <tr>\n",
       "      <th>2</th>\n",
       "      <td>LEXINGTON</td>\n",
       "      <td>48,448</td>\n",
       "      <td>47,827</td>\n",
       "      <td>45,511</td>\n",
       "      <td>71,913</td>\n",
       "      <td>99,500</td>\n",
       "    </tr>\n",
       "    <tr>\n",
       "      <th>3</th>\n",
       "      <td>HENRY CO</td>\n",
       "      <td>50,404</td>\n",
       "      <td>50,121</td>\n",
       "      <td>47,613</td>\n",
       "      <td>76,753</td>\n",
       "      <td>125,400</td>\n",
       "    </tr>\n",
       "    <tr>\n",
       "      <th>4</th>\n",
       "      <td>*PARIS</td>\n",
       "      <td>53,391</td>\n",
       "      <td>52,826</td>\n",
       "      <td>50,863</td>\n",
       "      <td>85,571</td>\n",
       "      <td>108,303</td>\n",
       "    </tr>\n",
       "  </tbody>\n",
       "</table>\n",
       "</div>"
      ],
      "text/plain": [
       "     Unnamed: 0   LICENSED INSTRUCTIONAL CLASSROOM Unnamed: 4      Unnamed: 5\n",
       "0           NaN  EDUCATORS     PERSONNEL   TEACHER  PRINCIPAL  SUPERINTENDENT\n",
       "1  HENDERSON CO     50,540        50,304    48,063     68,981         105,000\n",
       "2     LEXINGTON     48,448        47,827    45,511     71,913          99,500\n",
       "3      HENRY CO     50,404        50,121    47,613     76,753         125,400\n",
       "4        *PARIS     53,391        52,826    50,863     85,571         108,303"
      ]
     },
     "execution_count": 21,
     "metadata": {},
     "output_type": "execute_result"
    }
   ],
   "source": [
    "df42.head()"
   ]
  },
  {
   "cell_type": "code",
   "execution_count": 34,
   "metadata": {},
   "outputs": [
    {
     "data": {
      "text/plain": [
       "(62, 6)"
      ]
     },
     "execution_count": 34,
     "metadata": {},
     "output_type": "execute_result"
    }
   ],
   "source": [
    "df42.shape"
   ]
  },
  {
   "cell_type": "code",
   "execution_count": 22,
   "metadata": {},
   "outputs": [],
   "source": [
    "df43 = tabula.read_pdf(\"C:/Users/unews/nss_data_science/Capstone/ASR1617.pdf\",pages=43)"
   ]
  },
  {
   "cell_type": "code",
   "execution_count": 23,
   "metadata": {
    "scrolled": false
   },
   "outputs": [
    {
     "data": {
      "text/html": [
       "<div>\n",
       "<style scoped>\n",
       "    .dataframe tbody tr th:only-of-type {\n",
       "        vertical-align: middle;\n",
       "    }\n",
       "\n",
       "    .dataframe tbody tr th {\n",
       "        vertical-align: top;\n",
       "    }\n",
       "\n",
       "    .dataframe thead th {\n",
       "        text-align: right;\n",
       "    }\n",
       "</style>\n",
       "<table border=\"1\" class=\"dataframe\">\n",
       "  <thead>\n",
       "    <tr style=\"text-align: right;\">\n",
       "      <th></th>\n",
       "      <th>Unnamed: 0</th>\n",
       "      <th>LICENSED</th>\n",
       "      <th>INSTRUCTIONAL</th>\n",
       "      <th>CLASSROOM</th>\n",
       "      <th>Unnamed: 4</th>\n",
       "      <th>Unnamed: 5</th>\n",
       "    </tr>\n",
       "  </thead>\n",
       "  <tbody>\n",
       "    <tr>\n",
       "      <th>0</th>\n",
       "      <td>NaN</td>\n",
       "      <td>EDUCATORS</td>\n",
       "      <td>PERSONNEL</td>\n",
       "      <td>TEACHER</td>\n",
       "      <td>PRINCIPAL</td>\n",
       "      <td>SUPERINTENDENT</td>\n",
       "    </tr>\n",
       "    <tr>\n",
       "      <th>1</th>\n",
       "      <td>SULLIVAN CO</td>\n",
       "      <td>48,357</td>\n",
       "      <td>48,098</td>\n",
       "      <td>46,787</td>\n",
       "      <td>73,351</td>\n",
       "      <td>132,600</td>\n",
       "    </tr>\n",
       "    <tr>\n",
       "      <th>2</th>\n",
       "      <td>BRISTOL</td>\n",
       "      <td>56,033</td>\n",
       "      <td>55,582</td>\n",
       "      <td>52,591</td>\n",
       "      <td>96,979</td>\n",
       "      <td>146,019</td>\n",
       "    </tr>\n",
       "    <tr>\n",
       "      <th>3</th>\n",
       "      <td>KINGSPORT</td>\n",
       "      <td>59,696</td>\n",
       "      <td>59,254</td>\n",
       "      <td>57,120</td>\n",
       "      <td>94,810</td>\n",
       "      <td>181,605</td>\n",
       "    </tr>\n",
       "    <tr>\n",
       "      <th>4</th>\n",
       "      <td>SUMNER CO</td>\n",
       "      <td>49,170</td>\n",
       "      <td>49,086</td>\n",
       "      <td>46,988</td>\n",
       "      <td>85,660</td>\n",
       "      <td>191,646</td>\n",
       "    </tr>\n",
       "  </tbody>\n",
       "</table>\n",
       "</div>"
      ],
      "text/plain": [
       "    Unnamed: 0   LICENSED INSTRUCTIONAL CLASSROOM Unnamed: 4      Unnamed: 5\n",
       "0          NaN  EDUCATORS     PERSONNEL   TEACHER  PRINCIPAL  SUPERINTENDENT\n",
       "1  SULLIVAN CO     48,357        48,098    46,787     73,351         132,600\n",
       "2      BRISTOL     56,033        55,582    52,591     96,979         146,019\n",
       "3    KINGSPORT     59,696        59,254    57,120     94,810         181,605\n",
       "4    SUMNER CO     49,170        49,086    46,988     85,660         191,646"
      ]
     },
     "execution_count": 23,
     "metadata": {},
     "output_type": "execute_result"
    }
   ],
   "source": [
    "df43.head()"
   ]
  },
  {
   "cell_type": "code",
   "execution_count": 35,
   "metadata": {},
   "outputs": [
    {
     "data": {
      "text/plain": [
       "(22, 6)"
      ]
     },
     "execution_count": 35,
     "metadata": {},
     "output_type": "execute_result"
    }
   ],
   "source": [
    "df43.shape"
   ]
  },
  {
   "cell_type": "code",
   "execution_count": 29,
   "metadata": {},
   "outputs": [
    {
     "data": {
      "text/plain": [
       "pandas.core.frame.DataFrame"
      ]
     },
     "execution_count": 29,
     "metadata": {},
     "output_type": "execute_result"
    }
   ],
   "source": [
    "type(df41)"
   ]
  },
  {
   "cell_type": "code",
   "execution_count": 31,
   "metadata": {},
   "outputs": [],
   "source": [
    "asr1617=pd.concat([df41,df42])"
   ]
  },
  {
   "cell_type": "code",
   "execution_count": 36,
   "metadata": {},
   "outputs": [
    {
     "data": {
      "text/plain": [
       "(124, 6)"
      ]
     },
     "execution_count": 36,
     "metadata": {},
     "output_type": "execute_result"
    }
   ],
   "source": [
    "asr1617.shape"
   ]
  },
  {
   "cell_type": "code",
   "execution_count": 37,
   "metadata": {},
   "outputs": [],
   "source": [
    "asr1617=pd.concat([asr1617,df43])"
   ]
  },
  {
   "cell_type": "code",
   "execution_count": 38,
   "metadata": {},
   "outputs": [
    {
     "data": {
      "text/plain": [
       "(146, 6)"
      ]
     },
     "execution_count": 38,
     "metadata": {},
     "output_type": "execute_result"
    }
   ],
   "source": [
    "asr1617.shape"
   ]
  },
  {
   "cell_type": "code",
   "execution_count": 39,
   "metadata": {},
   "outputs": [],
   "source": [
    "asr1617.to_csv(\"C:/Users/unews/nss_data_science/Capstone/asr1617.csv\")"
   ]
  }
 ],
 "metadata": {
  "kernelspec": {
   "display_name": "Python 3",
   "language": "python",
   "name": "python3"
  },
  "language_info": {
   "codemirror_mode": {
    "name": "ipython",
    "version": 3
   },
   "file_extension": ".py",
   "mimetype": "text/x-python",
   "name": "python",
   "nbconvert_exporter": "python",
   "pygments_lexer": "ipython3",
   "version": "3.6.5"
  }
 },
 "nbformat": 4,
 "nbformat_minor": 2
}
