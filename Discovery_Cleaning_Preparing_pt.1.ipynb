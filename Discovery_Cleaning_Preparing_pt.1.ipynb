{
 "cells": [
  {
   "cell_type": "code",
   "execution_count": null,
   "metadata": {},
   "outputs": [],
   "source": [
    "import pandas as pd\n",
    "from dplython import (DplyFrame, X, diamonds, select, sift, sample_n,\n",
    "    sample_frac, head, arrange, mutate, group_by, summarize, DelayFunction) \n",
    "import matplotlib.pyplot as plt\n",
    "import seaborn as sns"
   ]
  },
  {
   "cell_type": "code",
   "execution_count": null,
   "metadata": {},
   "outputs": [],
   "source": [
    "abs1617 = pd.read_excel(\"data/chr_abs_District-Level_Suppression_2016-17.xls\")"
   ]
  },
  {
   "cell_type": "code",
   "execution_count": null,
   "metadata": {
    "scrolled": true
   },
   "outputs": [],
   "source": [
    "abs1617.head(20)"
   ]
  },
  {
   "cell_type": "code",
   "execution_count": null,
   "metadata": {
    "scrolled": true
   },
   "outputs": [],
   "source": [
    "abs1617.shape"
   ]
  },
  {
   "cell_type": "code",
   "execution_count": null,
   "metadata": {},
   "outputs": [],
   "source": [
    "#It looks like the abs1617 - system is the same thing as the abs1718 district"
   ]
  },
  {
   "cell_type": "code",
   "execution_count": null,
   "metadata": {},
   "outputs": [],
   "source": [
    "len(abs1617.system.unique())"
   ]
  },
  {
   "cell_type": "code",
   "execution_count": null,
   "metadata": {},
   "outputs": [],
   "source": [
    "abs1617.columns"
   ]
  },
  {
   "cell_type": "code",
   "execution_count": null,
   "metadata": {},
   "outputs": [],
   "source": [
    "abs1718 = pd.read_excel(\"data/chr_abs_District-Level_Suppression_2017-18.xlsx\")"
   ]
  },
  {
   "cell_type": "code",
   "execution_count": null,
   "metadata": {
    "scrolled": true
   },
   "outputs": [],
   "source": [
    "abs1718.head(30) #abs1617 doesn't include extensive break down of age of groups ...  \n",
    "#may need to restrict data usage to 17-18 school year"
   ]
  },
  {
   "cell_type": "code",
   "execution_count": null,
   "metadata": {},
   "outputs": [],
   "source": [
    "abs1718.shape"
   ]
  },
  {
   "cell_type": "code",
   "execution_count": null,
   "metadata": {},
   "outputs": [],
   "source": [
    "abs1718.columns"
   ]
  },
  {
   "cell_type": "code",
   "execution_count": null,
   "metadata": {
    "scrolled": true
   },
   "outputs": [],
   "source": [
    "len(abs1718['District '].unique())"
   ]
  },
  {
   "cell_type": "code",
   "execution_count": null,
   "metadata": {},
   "outputs": [],
   "source": [
    "allstuds1718 =abs1718[(abs1718['Student Group'] == 'All Students') & (abs1718['Grade Band'] == 'All Grades')]"
   ]
  },
  {
   "cell_type": "code",
   "execution_count": null,
   "metadata": {},
   "outputs": [],
   "source": [
    "allstuds1718.shape"
   ]
  },
  {
   "cell_type": "code",
   "execution_count": null,
   "metadata": {
    "scrolled": false
   },
   "outputs": [],
   "source": [
    "allstuds1718.head()"
   ]
  },
  {
   "cell_type": "code",
   "execution_count": null,
   "metadata": {},
   "outputs": [],
   "source": [
    "allstuds1718['% Chronically Absent'].value_counts()"
   ]
  },
  {
   "cell_type": "code",
   "execution_count": null,
   "metadata": {},
   "outputs": [],
   "source": [
    "allstuds1718.loc[[4317]]"
   ]
  },
  {
   "cell_type": "code",
   "execution_count": null,
   "metadata": {},
   "outputs": [],
   "source": [
    "stu1718 = allstuds1718[allstuds1718['% Chronically Absent']!='**'] #Removed 3 from original dataset"
   ]
  },
  {
   "cell_type": "code",
   "execution_count": null,
   "metadata": {},
   "outputs": [],
   "source": [
    "allstuds1718[allstuds1718['% Chronically Absent']=='**']"
   ]
  },
  {
   "cell_type": "code",
   "execution_count": null,
   "metadata": {
    "scrolled": false
   },
   "outputs": [],
   "source": [
    "stu1718.sort_values(by = '% Chronically Absent', ascending = False)"
   ]
  },
  {
   "cell_type": "code",
   "execution_count": null,
   "metadata": {},
   "outputs": [],
   "source": [
    "#abs1718[(abs1718['Student Group'] == 'All Students') & (abs1718['Grade Band'] == 'All Grades')]\n",
    "k8all =abs1718[(abs1718['Student Group'] == 'All Students') & (abs1718['Grade Band'] == 'K through 8th')]"
   ]
  },
  {
   "cell_type": "code",
   "execution_count": null,
   "metadata": {
    "scrolled": true
   },
   "outputs": [],
   "source": [
    "k8all[k8all['# Chronically Absent'] == '**']"
   ]
  },
  {
   "cell_type": "markdown",
   "metadata": {},
   "source": [
    "### Etowah and Hamblen County seemed to consistently have very high chronic absenteeism on account of suppression information. - https://www.tn.gov/content/dam/tn/education/rpt-crd/report_card_suppression_rules_201718.pdf\n",
    "\n",
    "### Let's look at the overall information"
   ]
  },
  {
   "cell_type": "code",
   "execution_count": null,
   "metadata": {},
   "outputs": [],
   "source": [
    "abs1718[abs1718['# Chronically Absent'] == \"**\"]"
   ]
  },
  {
   "cell_type": "markdown",
   "metadata": {},
   "source": [
    "#### Either the issue is with students of color from various subgroups or entire counties.  Is this an error such as the three mentioned above (Carroll, Etowah, and Hamblen to have more than 99%)"
   ]
  },
  {
   "cell_type": "code",
   "execution_count": null,
   "metadata": {},
   "outputs": [],
   "source": [
    "salary1617 = pd.read_csv(\"data/asr1617.csv\")"
   ]
  },
  {
   "cell_type": "code",
   "execution_count": null,
   "metadata": {},
   "outputs": [],
   "source": [
    "salary1617.head()"
   ]
  },
  {
   "cell_type": "code",
   "execution_count": null,
   "metadata": {},
   "outputs": [],
   "source": [
    "salary1617.iloc[:,1].value_counts() #143 cases. Need to change names to match other dataframes, take away *, etc."
   ]
  },
  {
   "cell_type": "code",
   "execution_count": null,
   "metadata": {},
   "outputs": [],
   "source": [
    "salary1617 = salary1617.iloc[1:,1:]\n",
    "salary1617.tail()"
   ]
  },
  {
   "cell_type": "code",
   "execution_count": null,
   "metadata": {},
   "outputs": [],
   "source": [
    "salary1617.columns = ('system_name', 'licensed_educator', 'instuctional_personnel', 'classroom_teacher','principal', 'superintendent')"
   ]
  },
  {
   "cell_type": "code",
   "execution_count": null,
   "metadata": {},
   "outputs": [],
   "source": [
    "salary1617low = salary1617.sort_values(by = 'classroom_teacher')"
   ]
  },
  {
   "cell_type": "code",
   "execution_count": null,
   "metadata": {},
   "outputs": [],
   "source": [
    "salary1617low = salary1617low.iloc[:143,:]"
   ]
  },
  {
   "cell_type": "code",
   "execution_count": null,
   "metadata": {},
   "outputs": [],
   "source": [
    "salary1617.iloc[:,0].unique()"
   ]
  },
  {
   "cell_type": "code",
   "execution_count": null,
   "metadata": {},
   "outputs": [],
   "source": [
    "abs1617.iloc[:,2].unique()"
   ]
  },
  {
   "cell_type": "code",
   "execution_count": null,
   "metadata": {},
   "outputs": [],
   "source": [
    "#salary1617.iloc[:,0].lower()\n",
    "salary1617=salary1617.apply(lambda x: x.astype(str).str.lower())"
   ]
  },
  {
   "cell_type": "code",
   "execution_count": null,
   "metadata": {
    "scrolled": true
   },
   "outputs": [],
   "source": [
    "salary1617[salary1617['system_name']=='nan']"
   ]
  },
  {
   "cell_type": "code",
   "execution_count": null,
   "metadata": {},
   "outputs": [],
   "source": [
    "salary1617.tail()"
   ]
  },
  {
   "cell_type": "code",
   "execution_count": null,
   "metadata": {},
   "outputs": [],
   "source": [
    "salary1617 = salary1617.drop([62, 124, 145]) #index 145 = state average"
   ]
  },
  {
   "cell_type": "code",
   "execution_count": null,
   "metadata": {},
   "outputs": [],
   "source": [
    "abs1617=abs1617.apply(lambda x: x.astype(str).str.lower())"
   ]
  },
  {
   "cell_type": "code",
   "execution_count": null,
   "metadata": {},
   "outputs": [],
   "source": [
    "abs1617.sort_values(by = 'pct_chronically_absent')"
   ]
  },
  {
   "cell_type": "code",
   "execution_count": null,
   "metadata": {},
   "outputs": [],
   "source": [
    "abs1617_all = abs1617[abs1617.subgroup == 'all students']"
   ]
  },
  {
   "cell_type": "code",
   "execution_count": null,
   "metadata": {},
   "outputs": [],
   "source": [
    "abs1617_all.sort_values(by = 'pct_chronically_absent')"
   ]
  },
  {
   "cell_type": "code",
   "execution_count": null,
   "metadata": {},
   "outputs": [],
   "source": [
    "abs1617_all['system_name'] = abs1617_all['system_name'].str.replace(\"county\", \"co\")"
   ]
  },
  {
   "cell_type": "code",
   "execution_count": null,
   "metadata": {},
   "outputs": [],
   "source": [
    "salary1617['system_name'] = salary1617['system_name'].str.replace(\"*\", \"\")"
   ]
  },
  {
   "cell_type": "code",
   "execution_count": null,
   "metadata": {},
   "outputs": [],
   "source": [
    "salary1617"
   ]
  },
  {
   "cell_type": "code",
   "execution_count": null,
   "metadata": {
    "scrolled": true
   },
   "outputs": [],
   "source": [
    "abs1617_all.shape"
   ]
  },
  {
   "cell_type": "code",
   "execution_count": null,
   "metadata": {},
   "outputs": [],
   "source": [
    "abs1617_all.tail(50)"
   ]
  },
  {
   "cell_type": "code",
   "execution_count": null,
   "metadata": {},
   "outputs": [],
   "source": [
    "salary1617.shape"
   ]
  },
  {
   "cell_type": "code",
   "execution_count": null,
   "metadata": {},
   "outputs": [],
   "source": [
    "abs1617all = abs1617_all.drop([1500, 1534, 1526, 1517, 1507])#West TN School of Deaf, Alvin C. York, TN School of Blind, TN School of Deaf, Dept of children's ... not included"
   ]
  },
  {
   "cell_type": "code",
   "execution_count": null,
   "metadata": {},
   "outputs": [],
   "source": [
    "abs1617all.sort_values(by = 'system_name')"
   ]
  },
  {
   "cell_type": "code",
   "execution_count": null,
   "metadata": {},
   "outputs": [],
   "source": [
    "salary1617.sort_values(by = 'system_name')"
   ]
  },
  {
   "cell_type": "code",
   "execution_count": null,
   "metadata": {},
   "outputs": [],
   "source": [
    "salary1617['system_name'].unique()"
   ]
  },
  {
   "cell_type": "code",
   "execution_count": null,
   "metadata": {},
   "outputs": [],
   "source": [
    "abs1617all.system_name.unique()"
   ]
  },
  {
   "cell_type": "code",
   "execution_count": null,
   "metadata": {},
   "outputs": [],
   "source": [
    "#allstuds1718 =abs1718[(abs1718['Student Group'] == 'All Students') & (abs1718['Grade Band'] == 'All Grades')]\n",
    "\n",
    "abs1617all['system_name'].unique() == salary1617['system_name'].unique()"
   ]
  },
  {
   "cell_type": "code",
   "execution_count": null,
   "metadata": {},
   "outputs": [],
   "source": [
    "salary1617.system_name.iloc[[42]]"
   ]
  },
  {
   "cell_type": "code",
   "execution_count": null,
   "metadata": {},
   "outputs": [],
   "source": [
    "salary1617['system_name'] = salary1617['system_name'].str.replace(\"hollow rock-br\", \"hollow rock - bruceton\")\n",
    "salary1617['system_name'] = salary1617['system_name'].str.replace(\"huntingdon\", \"huntingdon special school district\")\n",
    "salary1617['system_name'] = salary1617['system_name'].str.replace(\"west carroll\", \"west carroll sp dist\")\n",
    "salary1617['system_name'] = salary1617['system_name'].str.replace(\"fayette co\", \"fayette co public schools\")\n",
    "\n",
    "salary1617['system_name'] = salary1617['system_name'].str.replace(\"humboldt\", \"humboldt city schools\")\n",
    "salary1617['system_name'] = salary1617['system_name'].str.replace(\"gibson co. spec.\", \"gibson co sp dist\")\n",
    "salary1617['system_name'] = salary1617['system_name'].str.replace(\"hardeman co\", \"hardeman co schools\")\n",
    "salary1617['system_name'] = salary1617['system_name'].str.replace(\"millington\", \"millington municipal schools\")\n",
    "\n",
    "salary1617['system_name'] = salary1617['system_name'].str.replace(\"franklin\", \"franklin ssd\")\n"
   ]
  },
  {
   "cell_type": "code",
   "execution_count": null,
   "metadata": {
    "scrolled": false
   },
   "outputs": [],
   "source": [
    "abs1617all['system_name'].unique() == salary1617['system_name'].unique()"
   ]
  },
  {
   "cell_type": "code",
   "execution_count": null,
   "metadata": {},
   "outputs": [],
   "source": [
    "salary1617.system_name.iloc[[42]] = 'franklin co'"
   ]
  },
  {
   "cell_type": "code",
   "execution_count": null,
   "metadata": {
    "scrolled": true
   },
   "outputs": [],
   "source": [
    "abs1617all['system_name'].unique() == salary1617['system_name'].unique()"
   ]
  },
  {
   "cell_type": "code",
   "execution_count": null,
   "metadata": {},
   "outputs": [],
   "source": [
    "district=pd.merge(abs1617all,salary1617, on = 'system_name')"
   ]
  },
  {
   "cell_type": "code",
   "execution_count": null,
   "metadata": {},
   "outputs": [],
   "source": [
    "district_county = pd.read_csv(\"data/district_county.csv\")"
   ]
  },
  {
   "cell_type": "code",
   "execution_count": null,
   "metadata": {},
   "outputs": [],
   "source": [
    "district_county.head()"
   ]
  },
  {
   "cell_type": "code",
   "execution_count": null,
   "metadata": {},
   "outputs": [],
   "source": [
    "dc1=district_county.iloc[:,2:4]\n",
    "dc2 = district_county.iloc[:,7:9]\n",
    "dc3 = district_county.iloc[:,12:14]"
   ]
  },
  {
   "cell_type": "code",
   "execution_count": null,
   "metadata": {},
   "outputs": [],
   "source": [
    "dc3.columns"
   ]
  },
  {
   "cell_type": "code",
   "execution_count": null,
   "metadata": {
    "scrolled": true
   },
   "outputs": [],
   "source": [
    "dc2.columns = ('District Name', 'County')\n",
    "dc3.columns = ('District Name', 'County')"
   ]
  },
  {
   "cell_type": "code",
   "execution_count": null,
   "metadata": {},
   "outputs": [],
   "source": [
    "dcmap = pd.concat([dc1,dc2])\n",
    "dcmap = pd.concat([dcmap,dc3])"
   ]
  },
  {
   "cell_type": "code",
   "execution_count": null,
   "metadata": {},
   "outputs": [],
   "source": [
    "dcmap = dcmap.dropna()"
   ]
  },
  {
   "cell_type": "code",
   "execution_count": null,
   "metadata": {},
   "outputs": [],
   "source": [
    "dcmap.head()"
   ]
  },
  {
   "cell_type": "code",
   "execution_count": null,
   "metadata": {},
   "outputs": [],
   "source": [
    "dcmap=dcmap.apply(lambda x: x.astype(str).str.lower())"
   ]
  },
  {
   "cell_type": "code",
   "execution_count": null,
   "metadata": {},
   "outputs": [],
   "source": [
    "dcmap['District Name'] = dcmap['District Name'].str.replace(\"county\", \"co\")"
   ]
  },
  {
   "cell_type": "code",
   "execution_count": null,
   "metadata": {},
   "outputs": [],
   "source": [
    "dcmap = dcmap.reset_index()"
   ]
  },
  {
   "cell_type": "code",
   "execution_count": null,
   "metadata": {},
   "outputs": [],
   "source": [
    "dcmap = dcmap.iloc[:,1:]"
   ]
  },
  {
   "cell_type": "code",
   "execution_count": null,
   "metadata": {},
   "outputs": [],
   "source": [
    "dcmap.columns = ('system_name', 'county')"
   ]
  },
  {
   "cell_type": "code",
   "execution_count": null,
   "metadata": {},
   "outputs": [],
   "source": [
    "dcmap.shape"
   ]
  },
  {
   "cell_type": "code",
   "execution_count": null,
   "metadata": {},
   "outputs": [],
   "source": [
    "ck1=dcmap.sort_values(by = 'system_name')"
   ]
  },
  {
   "cell_type": "code",
   "execution_count": null,
   "metadata": {},
   "outputs": [],
   "source": [
    "ck2 = district.sort_values(by='system_name')"
   ]
  },
  {
   "cell_type": "code",
   "execution_count": null,
   "metadata": {},
   "outputs": [],
   "source": [
    "pd.set_option('display.max_rows', 500)\n",
    "pd.set_option('display.max_columns', 500)\n",
    "pd.set_option('display.width', 1000)"
   ]
  },
  {
   "cell_type": "code",
   "execution_count": null,
   "metadata": {},
   "outputs": [],
   "source": [
    "pd.merge(ck1,ck2,how = 'outer').sort_values(by='system_name')"
   ]
  },
  {
   "cell_type": "markdown",
   "metadata": {},
   "source": [
    "Add\n",
    "achievement - \n",
    "\n",
    "Change\n",
    "bells --> bells city\n",
    "bradford ssd --> bradford\n",
    "fayette co public schools --> fayette co\n",
    "gibson co ssd --> gibson co sp dist\n",
    "h-rock-bruceton ssd --> hollow rock - bruceton\n",
    "humboldt --> humboldt city schools\n",
    "huntingdon ssd --> huntingdon special school district"
   ]
  },
  {
   "cell_type": "code",
   "execution_count": null,
   "metadata": {
    "scrolled": true
   },
   "outputs": [],
   "source": [
    "dcmap.system_name"
   ]
  },
  {
   "cell_type": "code",
   "execution_count": null,
   "metadata": {},
   "outputs": [],
   "source": [
    "salary1617['system_name'] = salary1617['system_name'].str.replace(\"hollow rock-br\", \"hollow rock - bruceton\")\n",
    "salary1617['system_name'] = salary1617['system_name'].str.replace(\"huntingdon\", \"huntingdon special school district\")\n",
    "salary1617['system_name'] = salary1617['system_name'].str.replace(\"west carroll\", \"west carroll sp dist\")\n",
    "salary1617['system_name'] = salary1617['system_name'].str.replace(\"fayette co\", \"fayette co public schools\")\n",
    "\n",
    "salary1617['system_name'] = salary1617['system_name'].str.replace(\"humboldt\", \"humboldt city schools\")\n",
    "salary1617['system_name'] = salary1617['system_name'].str.replace(\"gibson co. spec.\", \"gibson co sp dist\")\n",
    "salary1617['system_name'] = salary1617['system_name'].str.replace(\"hardeman co\", \"hardeman co schools\")\n",
    "salary1617['system_name'] = salary1617['system_name'].str.replace(\"millington\", \"millington municipal schools\")\n",
    "\n",
    "salary1617['system_name'] = salary1617['system_name'].str.replace(\"franklin\", \"franklin ssd\")\n"
   ]
  },
  {
   "cell_type": "code",
   "execution_count": null,
   "metadata": {},
   "outputs": [],
   "source": [
    "pd.merge(district, dcmap, on = 'system_name')"
   ]
  }
 ],
 "metadata": {
  "kernelspec": {
   "display_name": "Python 3",
   "language": "python",
   "name": "python3"
  },
  "language_info": {
   "codemirror_mode": {
    "name": "ipython",
    "version": 3
   },
   "file_extension": ".py",
   "mimetype": "text/x-python",
   "name": "python",
   "nbconvert_exporter": "python",
   "pygments_lexer": "ipython3",
   "version": "3.6.5"
  }
 },
 "nbformat": 4,
 "nbformat_minor": 2
}
